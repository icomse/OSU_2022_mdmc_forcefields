{
 "cells": [
  {
   "cell_type": "code",
   "execution_count": null,
   "id": "e3ce54d0",
   "metadata": {},
   "outputs": [],
   "source": [
    "%setenv SHELL=/bin/bash"
   ]
  },
  {
   "cell_type": "code",
   "execution_count": 1,
   "id": "e99b32e6",
   "metadata": {
    "scrolled": true
   },
   "outputs": [
    {
     "name": "stdout",
     "output_type": "stream",
     "text": [
      "                         :-) GROMACS - gmx, 2018.2 (-:\r\n",
      "\r\n",
      "                            GROMACS is written by:\r\n",
      "     Emile Apol      Rossen Apostolov      Paul Bauer     Herman J.C. Berendsen\r\n",
      "    Par Bjelkmar    Aldert van Buuren   Rudi van Drunen     Anton Feenstra  \r\n",
      "  Gerrit Groenhof    Aleksei Iupinov   Christoph Junghans   Anca Hamuraru   \r\n",
      " Vincent Hindriksen Dimitrios Karkoulis    Peter Kasson        Jiri Kraus    \r\n",
      "  Carsten Kutzner      Per Larsson      Justin A. Lemkul    Viveca Lindahl  \r\n",
      "  Magnus Lundborg   Pieter Meulenhoff    Erik Marklund      Teemu Murtola   \r\n",
      "    Szilard Pall       Sander Pronk      Roland Schulz     Alexey Shvetsov  \r\n",
      "   Michael Shirts     Alfons Sijbers     Peter Tieleman    Teemu Virolainen \r\n",
      " Christian Wennberg    Maarten Wolf   \r\n",
      "                           and the project leaders:\r\n",
      "        Mark Abraham, Berk Hess, Erik Lindahl, and David van der Spoel\r\n",
      "\r\n",
      "Copyright (c) 1991-2000, University of Groningen, The Netherlands.\r\n",
      "Copyright (c) 2001-2017, The GROMACS development team at\r\n",
      "Uppsala University, Stockholm University and\r\n",
      "the Royal Institute of Technology, Sweden.\r\n",
      "check out http://www.gromacs.org for more information.\r\n",
      "\r\n",
      "GROMACS is free software; you can redistribute it and/or modify it\r\n",
      "under the terms of the GNU Lesser General Public License\r\n",
      "as published by the Free Software Foundation; either version 2.1\r\n",
      "of the License, or (at your option) any later version.\r\n",
      "\r\n",
      "GROMACS:      gmx, version 2018.2\r\n",
      "Executable:   /usr/local/gromacs/bin/gmx\r\n",
      "Data prefix:  /usr/local/gromacs\r\n",
      "Working dir:  /Users/mrshirts/work/icomse/OSU_workshop/force_fields/OSU_2022_mdmc_forcefields\r\n",
      "Command line:\r\n",
      "  gmx\r\n",
      "\r\n",
      "SYNOPSIS\r\n",
      "\r\n",
      "gmx [-[no]h] [-[no]quiet] [-[no]version] [-[no]copyright] [-nice <int>]\r\n",
      "    [-[no]backup]\r\n",
      "\r\n",
      "OPTIONS\r\n",
      "\r\n",
      "Other options:\r\n",
      "\r\n",
      " -[no]h                     (no)\r\n",
      "           Print help and quit\r\n",
      " -[no]quiet                 (no)\r\n",
      "           Do not print common startup info or quotes\r\n",
      " -[no]version               (no)\r\n",
      "           Print extended version information and quit\r\n",
      " -[no]copyright             (yes)\r\n",
      "           Print copyright information on startup\r\n",
      " -nice   <int>              (19)\r\n",
      "           Set the nicelevel (default depends on command)\r\n",
      " -[no]backup                (yes)\r\n",
      "           Write backups if output files exist\r\n",
      "\r\n",
      "Additional help is available on the following topics:\r\n",
      "    commands    List of available commands\r\n",
      "    selections  Selection syntax and usage\r\n",
      "To access the help, use 'gmx help <topic>'.\r\n",
      "For help on a command, use 'gmx help <command>'.\r\n",
      "\r\n",
      "GROMACS reminds you: \"You're like them scientists on TV explaining black holes. More you talk, less I get\" (Jess Walter)\r\n",
      "\r\n"
     ]
    }
   ],
   "source": [
    "!gmx"
   ]
  },
  {
   "cell_type": "code",
   "execution_count": 1,
   "id": "0213579b",
   "metadata": {},
   "outputs": [],
   "source": [
    "!mmdrun -s justwater.tpr -e justwater.edr -x justwater.xtc\n"
   ]
  },
  {
   "cell_type": "code",
   "execution_count": 6,
   "id": "8342327d",
   "metadata": {},
   "outputs": [
    {
     "data": {
      "application/3dmoljs_load.v0": "<div id=\"3dmolviewer_1657557057870978\"  style=\"position: relative; width: 640px; height: 480px\">\n        <p id=\"3dmolwarning_1657557057870978\" style=\"background-color:#ffcccc;color:black\">You appear to be running in JupyterLab (or JavaScript failed to load for some other reason).  You need to install the 3dmol extension: <br>\n        <tt>jupyter labextension install jupyterlab_3dmol</tt></p>\n        </div>\n<script>\n\nvar loadScriptAsync = function(uri){\n  return new Promise((resolve, reject) => {\n    var tag = document.createElement('script');\n    tag.src = uri;\n    tag.async = true;\n    tag.onload = () => {\n      resolve();\n    };\n  var firstScriptTag = document.getElementsByTagName('script')[0];\n  firstScriptTag.parentNode.insertBefore(tag, firstScriptTag);\n});\n};\n\nif(typeof $3Dmolpromise === 'undefined') {\n$3Dmolpromise = null;\n  $3Dmolpromise = loadScriptAsync('https://3dmol.org/build/3Dmol.js');\n}\n\nvar viewer_1657557057870978 = null;\nvar warn = document.getElementById(\"3dmolwarning_1657557057870978\");\nif(warn) {\n    warn.parentNode.removeChild(warn);\n}\n$3Dmolpromise.then(function() {\nviewer_1657557057870978 = $3Dmol.createViewer($(\"#3dmolviewer_1657557057870978\"),{backgroundColor:\"white\"});\nviewer_1657557057870978.zoomTo();\n\tviewer_1657557057870978.addModel(\"@<TRIPOS>MOLECULE\\nRES\\n3 2 1 0 1\\nSMALL\\nNO_CHARGES\\n@<TRIPOS>CRYSIN\\n   31.0000    31.0000    31.0000    90.0000    90.0000    90.0000  1  1\\n@<TRIPOS>ATOM\\n       1 O            4.7200     2.1100     8.3900 O             1 RES     \\n       2 H1           4.3700     2.3700     9.2400 H1            1 RES     \\n       3 H2           3.9600     2.1000     7.8100 H2            1 RES     \\n@<TRIPOS>BOND\\n       1        2        1 1\\n       2        3        1 1\\n@<TRIPOS>SUBSTRUCTURE\\n       1 RES             1 RESIDUE    0 **** ROOT      0\\n\",\"mol2\");\n\tviewer_1657557057870978.setStyle({\"stick\": {\"radius\": 0.2, \"color\": \"grey\"}, \"sphere\": {\"scale\": 0.3, \"colorscheme\": {}}});\n\tviewer_1657557057870978.zoomTo();\nviewer_1657557057870978.render();\n});\n</script>",
      "text/html": [
       "<div id=\"3dmolviewer_1657557057870978\"  style=\"position: relative; width: 640px; height: 480px\">\n",
       "        <p id=\"3dmolwarning_1657557057870978\" style=\"background-color:#ffcccc;color:black\">You appear to be running in JupyterLab (or JavaScript failed to load for some other reason).  You need to install the 3dmol extension: <br>\n",
       "        <tt>jupyter labextension install jupyterlab_3dmol</tt></p>\n",
       "        </div>\n",
       "<script>\n",
       "\n",
       "var loadScriptAsync = function(uri){\n",
       "  return new Promise((resolve, reject) => {\n",
       "    var tag = document.createElement('script');\n",
       "    tag.src = uri;\n",
       "    tag.async = true;\n",
       "    tag.onload = () => {\n",
       "      resolve();\n",
       "    };\n",
       "  var firstScriptTag = document.getElementsByTagName('script')[0];\n",
       "  firstScriptTag.parentNode.insertBefore(tag, firstScriptTag);\n",
       "});\n",
       "};\n",
       "\n",
       "if(typeof $3Dmolpromise === 'undefined') {\n",
       "$3Dmolpromise = null;\n",
       "  $3Dmolpromise = loadScriptAsync('https://3dmol.org/build/3Dmol.js');\n",
       "}\n",
       "\n",
       "var viewer_1657557057870978 = null;\n",
       "var warn = document.getElementById(\"3dmolwarning_1657557057870978\");\n",
       "if(warn) {\n",
       "    warn.parentNode.removeChild(warn);\n",
       "}\n",
       "$3Dmolpromise.then(function() {\n",
       "viewer_1657557057870978 = $3Dmol.createViewer($(\"#3dmolviewer_1657557057870978\"),{backgroundColor:\"white\"});\n",
       "viewer_1657557057870978.zoomTo();\n",
       "\tviewer_1657557057870978.addModel(\"@<TRIPOS>MOLECULE\\nRES\\n3 2 1 0 1\\nSMALL\\nNO_CHARGES\\n@<TRIPOS>CRYSIN\\n   31.0000    31.0000    31.0000    90.0000    90.0000    90.0000  1  1\\n@<TRIPOS>ATOM\\n       1 O            4.7200     2.1100     8.3900 O             1 RES     \\n       2 H1           4.3700     2.3700     9.2400 H1            1 RES     \\n       3 H2           3.9600     2.1000     7.8100 H2            1 RES     \\n@<TRIPOS>BOND\\n       1        2        1 1\\n       2        3        1 1\\n@<TRIPOS>SUBSTRUCTURE\\n       1 RES             1 RESIDUE    0 **** ROOT      0\\n\",\"mol2\");\n",
       "\tviewer_1657557057870978.setStyle({\"stick\": {\"radius\": 0.2, \"color\": \"grey\"}, \"sphere\": {\"scale\": 0.3, \"colorscheme\": {}}});\n",
       "\tviewer_1657557057870978.zoomTo();\n",
       "viewer_1657557057870978.render();\n",
       "});\n",
       "</script>"
      ]
     },
     "metadata": {},
     "output_type": "display_data"
    },
    {
     "data": {
      "text/plain": [
       "<py3Dmol.view at 0x165b2e290>"
      ]
     },
     "execution_count": 6,
     "metadata": {},
     "output_type": "execute_result"
    }
   ],
   "source": [
    "water = mbuild.load('justonewater.gro')\n",
    "water.visualize()"
   ]
  },
  {
   "cell_type": "code",
   "execution_count": 9,
   "id": "045591c9",
   "metadata": {},
   "outputs": [
    {
     "data": {
      "application/3dmoljs_load.v0": "<div id=\"3dmolviewer_16575571348523269\"  style=\"position: relative; width: 640px; height: 480px\">\n        <p id=\"3dmolwarning_16575571348523269\" style=\"background-color:#ffcccc;color:black\">You appear to be running in JupyterLab (or JavaScript failed to load for some other reason).  You need to install the 3dmol extension: <br>\n        <tt>jupyter labextension install jupyterlab_3dmol</tt></p>\n        </div>\n<script>\n\nvar loadScriptAsync = function(uri){\n  return new Promise((resolve, reject) => {\n    var tag = document.createElement('script');\n    tag.src = uri;\n    tag.async = true;\n    tag.onload = () => {\n      resolve();\n    };\n  var firstScriptTag = document.getElementsByTagName('script')[0];\n  firstScriptTag.parentNode.insertBefore(tag, firstScriptTag);\n});\n};\n\nif(typeof $3Dmolpromise === 'undefined') {\n$3Dmolpromise = null;\n  $3Dmolpromise = loadScriptAsync('https://3dmol.org/build/3Dmol.js');\n}\n\nvar viewer_16575571348523269 = null;\nvar warn = document.getElementById(\"3dmolwarning_16575571348523269\");\nif(warn) {\n    warn.parentNode.removeChild(warn);\n}\n$3Dmolpromise.then(function() {\nviewer_16575571348523269 = $3Dmol.createViewer($(\"#3dmolviewer_16575571348523269\"),{backgroundColor:\"white\"});\nviewer_16575571348523269.zoomTo();\n\tviewer_16575571348523269.addModel(\"@<TRIPOS>MOLECULE\\nRES\\n12 0 1 0 1\\nSMALL\\nNO_CHARGES\\n@<TRIPOS>CRYSIN\\n   50.0000    50.0000    50.0000    90.0000    90.0000    90.0000  1  1\\n@<TRIPOS>ATOM\\n       1 H12         31.8400    31.8400    30.2300 H12           1 RES     \\n       2 C6          31.0300    31.1400    29.9600 C6            1 RES     \\n       3 C4          29.7100    31.4800    30.0600 C4            1 RES     \\n       4 H10         29.3900    32.5000    30.0700 H10           1 RES     \\n       5 C2          28.6500    30.5200    30.0800 C2            1 RES     \\n       6 H8          27.6800    30.9600    29.9700 H8            1 RES     \\n       7 C1          28.9500    29.1700    30.0600 C1            1 RES     \\n       8 H7          28.1000    28.4700    30.1300 H7            1 RES     \\n       9 C3          30.3200    28.8400    29.9400 C3            1 RES     \\n      10 H9          30.5700    27.8000    29.9800 H9            1 RES     \\n      11 C5          31.3600    29.7600    29.9000 C5            1 RES     \\n      12 H11         32.3400    29.3200    29.6800 H11           1 RES     \\n@<TRIPOS>BOND\\n@<TRIPOS>SUBSTRUCTURE\\n       1 RES             1 RESIDUE    0 **** ROOT      0\\n\",\"mol2\");\n\tviewer_16575571348523269.setStyle({\"stick\": {\"radius\": 0.2, \"color\": \"grey\"}, \"sphere\": {\"scale\": 0.3, \"colorscheme\": {}}});\n\tviewer_16575571348523269.zoomTo();\nviewer_16575571348523269.render();\n});\n</script>",
      "text/html": [
       "<div id=\"3dmolviewer_16575571348523269\"  style=\"position: relative; width: 640px; height: 480px\">\n",
       "        <p id=\"3dmolwarning_16575571348523269\" style=\"background-color:#ffcccc;color:black\">You appear to be running in JupyterLab (or JavaScript failed to load for some other reason).  You need to install the 3dmol extension: <br>\n",
       "        <tt>jupyter labextension install jupyterlab_3dmol</tt></p>\n",
       "        </div>\n",
       "<script>\n",
       "\n",
       "var loadScriptAsync = function(uri){\n",
       "  return new Promise((resolve, reject) => {\n",
       "    var tag = document.createElement('script');\n",
       "    tag.src = uri;\n",
       "    tag.async = true;\n",
       "    tag.onload = () => {\n",
       "      resolve();\n",
       "    };\n",
       "  var firstScriptTag = document.getElementsByTagName('script')[0];\n",
       "  firstScriptTag.parentNode.insertBefore(tag, firstScriptTag);\n",
       "});\n",
       "};\n",
       "\n",
       "if(typeof $3Dmolpromise === 'undefined') {\n",
       "$3Dmolpromise = null;\n",
       "  $3Dmolpromise = loadScriptAsync('https://3dmol.org/build/3Dmol.js');\n",
       "}\n",
       "\n",
       "var viewer_16575571348523269 = null;\n",
       "var warn = document.getElementById(\"3dmolwarning_16575571348523269\");\n",
       "if(warn) {\n",
       "    warn.parentNode.removeChild(warn);\n",
       "}\n",
       "$3Dmolpromise.then(function() {\n",
       "viewer_16575571348523269 = $3Dmol.createViewer($(\"#3dmolviewer_16575571348523269\"),{backgroundColor:\"white\"});\n",
       "viewer_16575571348523269.zoomTo();\n",
       "\tviewer_16575571348523269.addModel(\"@<TRIPOS>MOLECULE\\nRES\\n12 0 1 0 1\\nSMALL\\nNO_CHARGES\\n@<TRIPOS>CRYSIN\\n   50.0000    50.0000    50.0000    90.0000    90.0000    90.0000  1  1\\n@<TRIPOS>ATOM\\n       1 H12         31.8400    31.8400    30.2300 H12           1 RES     \\n       2 C6          31.0300    31.1400    29.9600 C6            1 RES     \\n       3 C4          29.7100    31.4800    30.0600 C4            1 RES     \\n       4 H10         29.3900    32.5000    30.0700 H10           1 RES     \\n       5 C2          28.6500    30.5200    30.0800 C2            1 RES     \\n       6 H8          27.6800    30.9600    29.9700 H8            1 RES     \\n       7 C1          28.9500    29.1700    30.0600 C1            1 RES     \\n       8 H7          28.1000    28.4700    30.1300 H7            1 RES     \\n       9 C3          30.3200    28.8400    29.9400 C3            1 RES     \\n      10 H9          30.5700    27.8000    29.9800 H9            1 RES     \\n      11 C5          31.3600    29.7600    29.9000 C5            1 RES     \\n      12 H11         32.3400    29.3200    29.6800 H11           1 RES     \\n@<TRIPOS>BOND\\n@<TRIPOS>SUBSTRUCTURE\\n       1 RES             1 RESIDUE    0 **** ROOT      0\\n\",\"mol2\");\n",
       "\tviewer_16575571348523269.setStyle({\"stick\": {\"radius\": 0.2, \"color\": \"grey\"}, \"sphere\": {\"scale\": 0.3, \"colorscheme\": {}}});\n",
       "\tviewer_16575571348523269.zoomTo();\n",
       "viewer_16575571348523269.render();\n",
       "});\n",
       "</script>"
      ]
     },
     "metadata": {},
     "output_type": "display_data"
    },
    {
     "data": {
      "text/plain": [
       "<py3Dmol.view at 0x1671b7640>"
      ]
     },
     "execution_count": 9,
     "metadata": {},
     "output_type": "execute_result"
    }
   ],
   "source": [
    "benzene = mbuild.load('justonebenzene.gro')\n",
    "benzene.visualize()"
   ]
  },
  {
   "cell_type": "code",
   "execution_count": null,
   "id": "6312f8fe",
   "metadata": {},
   "outputs": [],
   "source": []
  },
  {
   "cell_type": "code",
   "execution_count": null,
   "id": "6193f4cf",
   "metadata": {},
   "outputs": [],
   "source": []
  },
  {
   "cell_type": "code",
   "execution_count": null,
   "id": "10582569",
   "metadata": {},
   "outputs": [],
   "source": []
  },
  {
   "cell_type": "code",
   "execution_count": null,
   "id": "2aaa0374",
   "metadata": {},
   "outputs": [],
   "source": []
  }
 ],
 "metadata": {
  "kernelspec": {
   "display_name": "Python 3 (ipykernel)",
   "language": "python",
   "name": "python3"
  },
  "language_info": {
   "codemirror_mode": {
    "name": "ipython",
    "version": 3
   },
   "file_extension": ".py",
   "mimetype": "text/x-python",
   "name": "python",
   "nbconvert_exporter": "python",
   "pygments_lexer": "ipython3",
   "version": "3.10.5"
  }
 },
 "nbformat": 4,
 "nbformat_minor": 5
}
